{
  "nbformat": 4,
  "nbformat_minor": 0,
  "metadata": {
    "colab": {
      "provenance": [],
      "authorship_tag": "ABX9TyO4jrl8hAToq15wHZ62Gcte",
      "include_colab_link": true
    },
    "kernelspec": {
      "name": "python3",
      "display_name": "Python 3"
    },
    "language_info": {
      "name": "python"
    }
  },
  "cells": [
    {
      "cell_type": "markdown",
      "metadata": {
        "id": "view-in-github",
        "colab_type": "text"
      },
      "source": [
        "<a href=\"https://colab.research.google.com/github/Pasindu-Madhuwantha/Tenserflow-Exercise/blob/main/tenserflow_example.ipynb\" target=\"_parent\"><img src=\"https://colab.research.google.com/assets/colab-badge.svg\" alt=\"Open In Colab\"/></a>"
      ]
    },
    {
      "cell_type": "code",
      "execution_count": null,
      "metadata": {
        "id": "n9JhHWmIbJ2S"
      },
      "outputs": [],
      "source": []
    },
    {
      "cell_type": "markdown",
      "source": [
        "#Import Data"
      ],
      "metadata": {
        "id": "ItbF9ho5cIxo"
      }
    },
    {
      "cell_type": "code",
      "source": [
        "import pandas as pd\n",
        "url = \"https://raw.githubusercontent.com/selva86/datasets/master/Ionosphere.csv\"\n",
        "df = pd.read_csv(url)\n",
        "df.head()"
      ],
      "metadata": {
        "colab": {
          "base_uri": "https://localhost:8080/",
          "height": 236
        },
        "id": "Xfif5PtScMS2",
        "outputId": "d0ba4727-46a6-42cf-8e4f-4f3ed62ebc5f"
      },
      "execution_count": 1,
      "outputs": [
        {
          "output_type": "execute_result",
          "data": {
            "text/plain": [
              "   V1  V2       V3       V4       V5       V6       V7       V8       V9  \\\n",
              "0   1   0  0.99539 -0.05889  0.85243  0.02306  0.83398 -0.37708  1.00000   \n",
              "1   1   0  1.00000 -0.18829  0.93035 -0.36156 -0.10868 -0.93597  1.00000   \n",
              "2   1   0  1.00000 -0.03365  1.00000  0.00485  1.00000 -0.12062  0.88965   \n",
              "3   1   0  1.00000 -0.45161  1.00000  1.00000  0.71216 -1.00000  0.00000   \n",
              "4   1   0  1.00000 -0.02401  0.94140  0.06531  0.92106 -0.23255  0.77152   \n",
              "\n",
              "       V10  ...      V26      V27      V28      V29      V30      V31  \\\n",
              "0  0.03760  ... -0.51171  0.41078 -0.46168  0.21266 -0.34090  0.42267   \n",
              "1 -0.04549  ... -0.26569 -0.20468 -0.18401 -0.19040 -0.11593 -0.16626   \n",
              "2  0.01198  ... -0.40220  0.58984 -0.22145  0.43100 -0.17365  0.60436   \n",
              "3  0.00000  ...  0.90695  0.51613  1.00000  1.00000 -0.20099  0.25682   \n",
              "4 -0.16399  ... -0.65158  0.13290 -0.53206  0.02431 -0.62197 -0.05707   \n",
              "\n",
              "       V32      V33      V34  Class  \n",
              "0 -0.54487  0.18641 -0.45300      1  \n",
              "1 -0.06288 -0.13738 -0.02447      0  \n",
              "2 -0.24180  0.56045 -0.38238      1  \n",
              "3  1.00000 -0.32382  1.00000      0  \n",
              "4 -0.59573 -0.04608 -0.65697      1  \n",
              "\n",
              "[5 rows x 35 columns]"
            ],
            "text/html": [
              "\n",
              "  <div id=\"df-250d74c2-b36a-4182-9ba2-fef3e89be934\">\n",
              "    <div class=\"colab-df-container\">\n",
              "      <div>\n",
              "<style scoped>\n",
              "    .dataframe tbody tr th:only-of-type {\n",
              "        vertical-align: middle;\n",
              "    }\n",
              "\n",
              "    .dataframe tbody tr th {\n",
              "        vertical-align: top;\n",
              "    }\n",
              "\n",
              "    .dataframe thead th {\n",
              "        text-align: right;\n",
              "    }\n",
              "</style>\n",
              "<table border=\"1\" class=\"dataframe\">\n",
              "  <thead>\n",
              "    <tr style=\"text-align: right;\">\n",
              "      <th></th>\n",
              "      <th>V1</th>\n",
              "      <th>V2</th>\n",
              "      <th>V3</th>\n",
              "      <th>V4</th>\n",
              "      <th>V5</th>\n",
              "      <th>V6</th>\n",
              "      <th>V7</th>\n",
              "      <th>V8</th>\n",
              "      <th>V9</th>\n",
              "      <th>V10</th>\n",
              "      <th>...</th>\n",
              "      <th>V26</th>\n",
              "      <th>V27</th>\n",
              "      <th>V28</th>\n",
              "      <th>V29</th>\n",
              "      <th>V30</th>\n",
              "      <th>V31</th>\n",
              "      <th>V32</th>\n",
              "      <th>V33</th>\n",
              "      <th>V34</th>\n",
              "      <th>Class</th>\n",
              "    </tr>\n",
              "  </thead>\n",
              "  <tbody>\n",
              "    <tr>\n",
              "      <th>0</th>\n",
              "      <td>1</td>\n",
              "      <td>0</td>\n",
              "      <td>0.99539</td>\n",
              "      <td>-0.05889</td>\n",
              "      <td>0.85243</td>\n",
              "      <td>0.02306</td>\n",
              "      <td>0.83398</td>\n",
              "      <td>-0.37708</td>\n",
              "      <td>1.00000</td>\n",
              "      <td>0.03760</td>\n",
              "      <td>...</td>\n",
              "      <td>-0.51171</td>\n",
              "      <td>0.41078</td>\n",
              "      <td>-0.46168</td>\n",
              "      <td>0.21266</td>\n",
              "      <td>-0.34090</td>\n",
              "      <td>0.42267</td>\n",
              "      <td>-0.54487</td>\n",
              "      <td>0.18641</td>\n",
              "      <td>-0.45300</td>\n",
              "      <td>1</td>\n",
              "    </tr>\n",
              "    <tr>\n",
              "      <th>1</th>\n",
              "      <td>1</td>\n",
              "      <td>0</td>\n",
              "      <td>1.00000</td>\n",
              "      <td>-0.18829</td>\n",
              "      <td>0.93035</td>\n",
              "      <td>-0.36156</td>\n",
              "      <td>-0.10868</td>\n",
              "      <td>-0.93597</td>\n",
              "      <td>1.00000</td>\n",
              "      <td>-0.04549</td>\n",
              "      <td>...</td>\n",
              "      <td>-0.26569</td>\n",
              "      <td>-0.20468</td>\n",
              "      <td>-0.18401</td>\n",
              "      <td>-0.19040</td>\n",
              "      <td>-0.11593</td>\n",
              "      <td>-0.16626</td>\n",
              "      <td>-0.06288</td>\n",
              "      <td>-0.13738</td>\n",
              "      <td>-0.02447</td>\n",
              "      <td>0</td>\n",
              "    </tr>\n",
              "    <tr>\n",
              "      <th>2</th>\n",
              "      <td>1</td>\n",
              "      <td>0</td>\n",
              "      <td>1.00000</td>\n",
              "      <td>-0.03365</td>\n",
              "      <td>1.00000</td>\n",
              "      <td>0.00485</td>\n",
              "      <td>1.00000</td>\n",
              "      <td>-0.12062</td>\n",
              "      <td>0.88965</td>\n",
              "      <td>0.01198</td>\n",
              "      <td>...</td>\n",
              "      <td>-0.40220</td>\n",
              "      <td>0.58984</td>\n",
              "      <td>-0.22145</td>\n",
              "      <td>0.43100</td>\n",
              "      <td>-0.17365</td>\n",
              "      <td>0.60436</td>\n",
              "      <td>-0.24180</td>\n",
              "      <td>0.56045</td>\n",
              "      <td>-0.38238</td>\n",
              "      <td>1</td>\n",
              "    </tr>\n",
              "    <tr>\n",
              "      <th>3</th>\n",
              "      <td>1</td>\n",
              "      <td>0</td>\n",
              "      <td>1.00000</td>\n",
              "      <td>-0.45161</td>\n",
              "      <td>1.00000</td>\n",
              "      <td>1.00000</td>\n",
              "      <td>0.71216</td>\n",
              "      <td>-1.00000</td>\n",
              "      <td>0.00000</td>\n",
              "      <td>0.00000</td>\n",
              "      <td>...</td>\n",
              "      <td>0.90695</td>\n",
              "      <td>0.51613</td>\n",
              "      <td>1.00000</td>\n",
              "      <td>1.00000</td>\n",
              "      <td>-0.20099</td>\n",
              "      <td>0.25682</td>\n",
              "      <td>1.00000</td>\n",
              "      <td>-0.32382</td>\n",
              "      <td>1.00000</td>\n",
              "      <td>0</td>\n",
              "    </tr>\n",
              "    <tr>\n",
              "      <th>4</th>\n",
              "      <td>1</td>\n",
              "      <td>0</td>\n",
              "      <td>1.00000</td>\n",
              "      <td>-0.02401</td>\n",
              "      <td>0.94140</td>\n",
              "      <td>0.06531</td>\n",
              "      <td>0.92106</td>\n",
              "      <td>-0.23255</td>\n",
              "      <td>0.77152</td>\n",
              "      <td>-0.16399</td>\n",
              "      <td>...</td>\n",
              "      <td>-0.65158</td>\n",
              "      <td>0.13290</td>\n",
              "      <td>-0.53206</td>\n",
              "      <td>0.02431</td>\n",
              "      <td>-0.62197</td>\n",
              "      <td>-0.05707</td>\n",
              "      <td>-0.59573</td>\n",
              "      <td>-0.04608</td>\n",
              "      <td>-0.65697</td>\n",
              "      <td>1</td>\n",
              "    </tr>\n",
              "  </tbody>\n",
              "</table>\n",
              "<p>5 rows × 35 columns</p>\n",
              "</div>\n",
              "      <button class=\"colab-df-convert\" onclick=\"convertToInteractive('df-250d74c2-b36a-4182-9ba2-fef3e89be934')\"\n",
              "              title=\"Convert this dataframe to an interactive table.\"\n",
              "              style=\"display:none;\">\n",
              "        \n",
              "  <svg xmlns=\"http://www.w3.org/2000/svg\" height=\"24px\"viewBox=\"0 0 24 24\"\n",
              "       width=\"24px\">\n",
              "    <path d=\"M0 0h24v24H0V0z\" fill=\"none\"/>\n",
              "    <path d=\"M18.56 5.44l.94 2.06.94-2.06 2.06-.94-2.06-.94-.94-2.06-.94 2.06-2.06.94zm-11 1L8.5 8.5l.94-2.06 2.06-.94-2.06-.94L8.5 2.5l-.94 2.06-2.06.94zm10 10l.94 2.06.94-2.06 2.06-.94-2.06-.94-.94-2.06-.94 2.06-2.06.94z\"/><path d=\"M17.41 7.96l-1.37-1.37c-.4-.4-.92-.59-1.43-.59-.52 0-1.04.2-1.43.59L10.3 9.45l-7.72 7.72c-.78.78-.78 2.05 0 2.83L4 21.41c.39.39.9.59 1.41.59.51 0 1.02-.2 1.41-.59l7.78-7.78 2.81-2.81c.8-.78.8-2.07 0-2.86zM5.41 20L4 18.59l7.72-7.72 1.47 1.35L5.41 20z\"/>\n",
              "  </svg>\n",
              "      </button>\n",
              "      \n",
              "  <style>\n",
              "    .colab-df-container {\n",
              "      display:flex;\n",
              "      flex-wrap:wrap;\n",
              "      gap: 12px;\n",
              "    }\n",
              "\n",
              "    .colab-df-convert {\n",
              "      background-color: #E8F0FE;\n",
              "      border: none;\n",
              "      border-radius: 50%;\n",
              "      cursor: pointer;\n",
              "      display: none;\n",
              "      fill: #1967D2;\n",
              "      height: 32px;\n",
              "      padding: 0 0 0 0;\n",
              "      width: 32px;\n",
              "    }\n",
              "\n",
              "    .colab-df-convert:hover {\n",
              "      background-color: #E2EBFA;\n",
              "      box-shadow: 0px 1px 2px rgba(60, 64, 67, 0.3), 0px 1px 3px 1px rgba(60, 64, 67, 0.15);\n",
              "      fill: #174EA6;\n",
              "    }\n",
              "\n",
              "    [theme=dark] .colab-df-convert {\n",
              "      background-color: #3B4455;\n",
              "      fill: #D2E3FC;\n",
              "    }\n",
              "\n",
              "    [theme=dark] .colab-df-convert:hover {\n",
              "      background-color: #434B5C;\n",
              "      box-shadow: 0px 1px 3px 1px rgba(0, 0, 0, 0.15);\n",
              "      filter: drop-shadow(0px 1px 2px rgba(0, 0, 0, 0.3));\n",
              "      fill: #FFFFFF;\n",
              "    }\n",
              "  </style>\n",
              "\n",
              "      <script>\n",
              "        const buttonEl =\n",
              "          document.querySelector('#df-250d74c2-b36a-4182-9ba2-fef3e89be934 button.colab-df-convert');\n",
              "        buttonEl.style.display =\n",
              "          google.colab.kernel.accessAllowed ? 'block' : 'none';\n",
              "\n",
              "        async function convertToInteractive(key) {\n",
              "          const element = document.querySelector('#df-250d74c2-b36a-4182-9ba2-fef3e89be934');\n",
              "          const dataTable =\n",
              "            await google.colab.kernel.invokeFunction('convertToInteractive',\n",
              "                                                     [key], {});\n",
              "          if (!dataTable) return;\n",
              "\n",
              "          const docLinkHtml = 'Like what you see? Visit the ' +\n",
              "            '<a target=\"_blank\" href=https://colab.research.google.com/notebooks/data_table.ipynb>data table notebook</a>'\n",
              "            + ' to learn more about interactive tables.';\n",
              "          element.innerHTML = '';\n",
              "          dataTable['output_type'] = 'display_data';\n",
              "          await google.colab.output.renderOutput(dataTable, element);\n",
              "          const docLink = document.createElement('div');\n",
              "          docLink.innerHTML = docLinkHtml;\n",
              "          element.appendChild(docLink);\n",
              "        }\n",
              "      </script>\n",
              "    </div>\n",
              "  </div>\n",
              "  "
            ]
          },
          "metadata": {},
          "execution_count": 1
        }
      ]
    },
    {
      "cell_type": "code",
      "source": [
        "x = df.drop(['Class'],axis=1)\n",
        "y = df['Class']\n",
        "print(y)"
      ],
      "metadata": {
        "id": "J_NyBUufdaKq"
      },
      "execution_count": null,
      "outputs": []
    },
    {
      "cell_type": "code",
      "source": [
        "from sklearn.model_selection import train_test_split\n",
        "x_train,x_test,y_train,y_test=train_test_split(x,y,test_size=0.2)"
      ],
      "metadata": {
        "id": "dnrfvbfKnEzl"
      },
      "execution_count": 12,
      "outputs": []
    },
    {
      "cell_type": "markdown",
      "source": [
        "#Import Dependencies"
      ],
      "metadata": {
        "id": "b0hJKfsfnber"
      }
    },
    {
      "cell_type": "code",
      "source": [
        "from keras.models import Sequential, load_model\n",
        "from keras.layers import Dense, Dropout"
      ],
      "metadata": {
        "id": "gD5QmEGhnIW-"
      },
      "execution_count": 7,
      "outputs": []
    },
    {
      "cell_type": "markdown",
      "source": [
        "#Build Model"
      ],
      "metadata": {
        "id": "smEajL4mniMg"
      }
    },
    {
      "cell_type": "code",
      "source": [
        "model = Sequential()\n",
        "model.add(Dense(units=10,activation='relu',input_dim=len(x_train.columns)))\n",
        "model.add(Dense(units=5,activation='relu'))\n",
        "model.add(Dense(units=1,activation='sigmoid'))\n",
        "model.summary()\n"
      ],
      "metadata": {
        "colab": {
          "base_uri": "https://localhost:8080/"
        },
        "id": "Rn51Ond-nkdo",
        "outputId": "ea93a863-df90-45c7-caa1-bc5cdfc5270d"
      },
      "execution_count": 8,
      "outputs": [
        {
          "output_type": "stream",
          "name": "stdout",
          "text": [
            "Model: \"sequential\"\n",
            "_________________________________________________________________\n",
            " Layer (type)                Output Shape              Param #   \n",
            "=================================================================\n",
            " dense (Dense)               (None, 10)                350       \n",
            "                                                                 \n",
            " dense_1 (Dense)             (None, 5)                 55        \n",
            "                                                                 \n",
            " dense_2 (Dense)             (None, 1)                 6         \n",
            "                                                                 \n",
            "=================================================================\n",
            "Total params: 411\n",
            "Trainable params: 411\n",
            "Non-trainable params: 0\n",
            "_________________________________________________________________\n"
          ]
        }
      ]
    },
    {
      "cell_type": "code",
      "source": [
        "model.compile(loss='binary_crossentropy',optimizer='sgd',metrics='accuracy')"
      ],
      "metadata": {
        "id": "HuXxTgQ3qn0o"
      },
      "execution_count": 10,
      "outputs": []
    },
    {
      "cell_type": "markdown",
      "source": [
        "#Train Model"
      ],
      "metadata": {
        "id": "YD5mURfLrlTe"
      }
    },
    {
      "cell_type": "code",
      "source": [
        "model.fit(x_train,y_train,validation_data=(x_test,y_test),epochs=100,batch_size=32)"
      ],
      "metadata": {
        "colab": {
          "base_uri": "https://localhost:8080/"
        },
        "id": "P5PtOKo6rQ5k",
        "outputId": "c47953b1-cdba-44c4-ce48-c5c044560f1c"
      },
      "execution_count": 14,
      "outputs": [
        {
          "output_type": "stream",
          "name": "stdout",
          "text": [
            "Epoch 1/100\n",
            "9/9 [==============================] - 1s 21ms/step - loss: 0.6992 - accuracy: 0.5643 - val_loss: 0.7060 - val_accuracy: 0.4930\n",
            "Epoch 2/100\n",
            "9/9 [==============================] - 0s 6ms/step - loss: 0.6827 - accuracy: 0.5929 - val_loss: 0.6911 - val_accuracy: 0.5070\n",
            "Epoch 3/100\n",
            "9/9 [==============================] - 0s 4ms/step - loss: 0.6707 - accuracy: 0.6071 - val_loss: 0.6792 - val_accuracy: 0.5070\n",
            "Epoch 4/100\n",
            "9/9 [==============================] - 0s 6ms/step - loss: 0.6610 - accuracy: 0.6143 - val_loss: 0.6685 - val_accuracy: 0.5211\n",
            "Epoch 5/100\n",
            "9/9 [==============================] - 0s 4ms/step - loss: 0.6528 - accuracy: 0.6214 - val_loss: 0.6587 - val_accuracy: 0.4930\n",
            "Epoch 6/100\n",
            "9/9 [==============================] - 0s 4ms/step - loss: 0.6456 - accuracy: 0.6036 - val_loss: 0.6500 - val_accuracy: 0.5493\n",
            "Epoch 7/100\n",
            "9/9 [==============================] - 0s 4ms/step - loss: 0.6391 - accuracy: 0.6179 - val_loss: 0.6426 - val_accuracy: 0.5775\n",
            "Epoch 8/100\n",
            "9/9 [==============================] - 0s 4ms/step - loss: 0.6336 - accuracy: 0.6286 - val_loss: 0.6360 - val_accuracy: 0.5915\n",
            "Epoch 9/100\n",
            "9/9 [==============================] - 0s 5ms/step - loss: 0.6285 - accuracy: 0.6357 - val_loss: 0.6297 - val_accuracy: 0.6197\n",
            "Epoch 10/100\n",
            "9/9 [==============================] - 0s 6ms/step - loss: 0.6237 - accuracy: 0.6393 - val_loss: 0.6238 - val_accuracy: 0.6338\n",
            "Epoch 11/100\n",
            "9/9 [==============================] - 0s 4ms/step - loss: 0.6193 - accuracy: 0.6357 - val_loss: 0.6189 - val_accuracy: 0.6338\n",
            "Epoch 12/100\n",
            "9/9 [==============================] - 0s 4ms/step - loss: 0.6156 - accuracy: 0.6393 - val_loss: 0.6145 - val_accuracy: 0.6479\n",
            "Epoch 13/100\n",
            "9/9 [==============================] - 0s 4ms/step - loss: 0.6120 - accuracy: 0.6393 - val_loss: 0.6102 - val_accuracy: 0.6479\n",
            "Epoch 14/100\n",
            "9/9 [==============================] - 0s 4ms/step - loss: 0.6087 - accuracy: 0.6429 - val_loss: 0.6064 - val_accuracy: 0.6620\n",
            "Epoch 15/100\n",
            "9/9 [==============================] - 0s 6ms/step - loss: 0.6058 - accuracy: 0.6429 - val_loss: 0.6029 - val_accuracy: 0.6620\n",
            "Epoch 16/100\n",
            "9/9 [==============================] - 0s 6ms/step - loss: 0.6027 - accuracy: 0.6429 - val_loss: 0.5994 - val_accuracy: 0.6620\n",
            "Epoch 17/100\n",
            "9/9 [==============================] - 0s 4ms/step - loss: 0.6000 - accuracy: 0.6429 - val_loss: 0.5961 - val_accuracy: 0.6761\n",
            "Epoch 18/100\n",
            "9/9 [==============================] - 0s 6ms/step - loss: 0.5975 - accuracy: 0.6429 - val_loss: 0.5930 - val_accuracy: 0.6761\n",
            "Epoch 19/100\n",
            "9/9 [==============================] - 0s 4ms/step - loss: 0.5950 - accuracy: 0.6429 - val_loss: 0.5903 - val_accuracy: 0.6761\n",
            "Epoch 20/100\n",
            "9/9 [==============================] - 0s 4ms/step - loss: 0.5923 - accuracy: 0.6429 - val_loss: 0.5876 - val_accuracy: 0.6761\n",
            "Epoch 21/100\n",
            "9/9 [==============================] - 0s 3ms/step - loss: 0.5900 - accuracy: 0.6464 - val_loss: 0.5848 - val_accuracy: 0.6761\n",
            "Epoch 22/100\n",
            "9/9 [==============================] - 0s 3ms/step - loss: 0.5878 - accuracy: 0.6500 - val_loss: 0.5822 - val_accuracy: 0.6761\n",
            "Epoch 23/100\n",
            "9/9 [==============================] - 0s 6ms/step - loss: 0.5852 - accuracy: 0.6571 - val_loss: 0.5797 - val_accuracy: 0.6761\n",
            "Epoch 24/100\n",
            "9/9 [==============================] - 0s 3ms/step - loss: 0.5829 - accuracy: 0.6607 - val_loss: 0.5772 - val_accuracy: 0.6761\n",
            "Epoch 25/100\n",
            "9/9 [==============================] - 0s 3ms/step - loss: 0.5806 - accuracy: 0.6607 - val_loss: 0.5745 - val_accuracy: 0.6761\n",
            "Epoch 26/100\n",
            "9/9 [==============================] - 0s 4ms/step - loss: 0.5783 - accuracy: 0.6643 - val_loss: 0.5717 - val_accuracy: 0.6761\n",
            "Epoch 27/100\n",
            "9/9 [==============================] - 0s 4ms/step - loss: 0.5759 - accuracy: 0.6643 - val_loss: 0.5694 - val_accuracy: 0.6761\n",
            "Epoch 28/100\n",
            "9/9 [==============================] - 0s 4ms/step - loss: 0.5735 - accuracy: 0.6643 - val_loss: 0.5668 - val_accuracy: 0.6761\n",
            "Epoch 29/100\n",
            "9/9 [==============================] - 0s 4ms/step - loss: 0.5712 - accuracy: 0.6643 - val_loss: 0.5645 - val_accuracy: 0.6761\n",
            "Epoch 30/100\n",
            "9/9 [==============================] - 0s 4ms/step - loss: 0.5690 - accuracy: 0.6643 - val_loss: 0.5618 - val_accuracy: 0.6761\n",
            "Epoch 31/100\n",
            "9/9 [==============================] - 0s 3ms/step - loss: 0.5667 - accuracy: 0.6643 - val_loss: 0.5594 - val_accuracy: 0.6761\n",
            "Epoch 32/100\n",
            "9/9 [==============================] - 0s 4ms/step - loss: 0.5641 - accuracy: 0.6679 - val_loss: 0.5569 - val_accuracy: 0.6901\n",
            "Epoch 33/100\n",
            "9/9 [==============================] - 0s 3ms/step - loss: 0.5618 - accuracy: 0.6679 - val_loss: 0.5545 - val_accuracy: 0.6901\n",
            "Epoch 34/100\n",
            "9/9 [==============================] - 0s 4ms/step - loss: 0.5593 - accuracy: 0.6786 - val_loss: 0.5521 - val_accuracy: 0.6901\n",
            "Epoch 35/100\n",
            "9/9 [==============================] - 0s 5ms/step - loss: 0.5577 - accuracy: 0.6929 - val_loss: 0.5494 - val_accuracy: 0.7042\n",
            "Epoch 36/100\n",
            "9/9 [==============================] - 0s 7ms/step - loss: 0.5549 - accuracy: 0.6929 - val_loss: 0.5470 - val_accuracy: 0.7042\n",
            "Epoch 37/100\n",
            "9/9 [==============================] - 0s 4ms/step - loss: 0.5525 - accuracy: 0.6929 - val_loss: 0.5445 - val_accuracy: 0.7042\n",
            "Epoch 38/100\n",
            "9/9 [==============================] - 0s 4ms/step - loss: 0.5498 - accuracy: 0.6964 - val_loss: 0.5419 - val_accuracy: 0.7042\n",
            "Epoch 39/100\n",
            "9/9 [==============================] - 0s 4ms/step - loss: 0.5472 - accuracy: 0.7000 - val_loss: 0.5395 - val_accuracy: 0.7042\n",
            "Epoch 40/100\n",
            "9/9 [==============================] - 0s 4ms/step - loss: 0.5448 - accuracy: 0.7071 - val_loss: 0.5370 - val_accuracy: 0.7042\n",
            "Epoch 41/100\n",
            "9/9 [==============================] - 0s 4ms/step - loss: 0.5424 - accuracy: 0.7179 - val_loss: 0.5345 - val_accuracy: 0.7042\n",
            "Epoch 42/100\n",
            "9/9 [==============================] - 0s 7ms/step - loss: 0.5398 - accuracy: 0.7250 - val_loss: 0.5322 - val_accuracy: 0.7183\n",
            "Epoch 43/100\n",
            "9/9 [==============================] - 0s 4ms/step - loss: 0.5376 - accuracy: 0.7286 - val_loss: 0.5299 - val_accuracy: 0.7183\n",
            "Epoch 44/100\n",
            "9/9 [==============================] - 0s 5ms/step - loss: 0.5350 - accuracy: 0.7321 - val_loss: 0.5276 - val_accuracy: 0.7183\n",
            "Epoch 45/100\n",
            "9/9 [==============================] - 0s 5ms/step - loss: 0.5323 - accuracy: 0.7321 - val_loss: 0.5253 - val_accuracy: 0.7183\n",
            "Epoch 46/100\n",
            "9/9 [==============================] - 0s 5ms/step - loss: 0.5297 - accuracy: 0.7321 - val_loss: 0.5229 - val_accuracy: 0.7183\n",
            "Epoch 47/100\n",
            "9/9 [==============================] - 0s 6ms/step - loss: 0.5272 - accuracy: 0.7357 - val_loss: 0.5205 - val_accuracy: 0.7183\n",
            "Epoch 48/100\n",
            "9/9 [==============================] - 0s 4ms/step - loss: 0.5250 - accuracy: 0.7357 - val_loss: 0.5182 - val_accuracy: 0.7183\n",
            "Epoch 49/100\n",
            "9/9 [==============================] - 0s 4ms/step - loss: 0.5224 - accuracy: 0.7393 - val_loss: 0.5159 - val_accuracy: 0.7183\n",
            "Epoch 50/100\n",
            "9/9 [==============================] - 0s 4ms/step - loss: 0.5196 - accuracy: 0.7393 - val_loss: 0.5137 - val_accuracy: 0.7183\n",
            "Epoch 51/100\n",
            "9/9 [==============================] - 0s 6ms/step - loss: 0.5172 - accuracy: 0.7393 - val_loss: 0.5115 - val_accuracy: 0.7183\n",
            "Epoch 52/100\n",
            "9/9 [==============================] - 0s 6ms/step - loss: 0.5147 - accuracy: 0.7393 - val_loss: 0.5091 - val_accuracy: 0.7183\n",
            "Epoch 53/100\n",
            "9/9 [==============================] - 0s 4ms/step - loss: 0.5121 - accuracy: 0.7393 - val_loss: 0.5067 - val_accuracy: 0.7183\n",
            "Epoch 54/100\n",
            "9/9 [==============================] - 0s 6ms/step - loss: 0.5093 - accuracy: 0.7393 - val_loss: 0.5043 - val_accuracy: 0.7183\n",
            "Epoch 55/100\n",
            "9/9 [==============================] - 0s 4ms/step - loss: 0.5069 - accuracy: 0.7393 - val_loss: 0.5020 - val_accuracy: 0.7465\n",
            "Epoch 56/100\n",
            "9/9 [==============================] - 0s 4ms/step - loss: 0.5042 - accuracy: 0.7464 - val_loss: 0.4996 - val_accuracy: 0.7465\n",
            "Epoch 57/100\n",
            "9/9 [==============================] - 0s 6ms/step - loss: 0.5016 - accuracy: 0.7464 - val_loss: 0.4971 - val_accuracy: 0.7606\n",
            "Epoch 58/100\n",
            "9/9 [==============================] - 0s 6ms/step - loss: 0.4992 - accuracy: 0.7464 - val_loss: 0.4946 - val_accuracy: 0.7606\n",
            "Epoch 59/100\n",
            "9/9 [==============================] - 0s 4ms/step - loss: 0.4964 - accuracy: 0.7536 - val_loss: 0.4922 - val_accuracy: 0.7746\n",
            "Epoch 60/100\n",
            "9/9 [==============================] - 0s 4ms/step - loss: 0.4938 - accuracy: 0.7607 - val_loss: 0.4896 - val_accuracy: 0.7746\n",
            "Epoch 61/100\n",
            "9/9 [==============================] - 0s 3ms/step - loss: 0.4911 - accuracy: 0.7607 - val_loss: 0.4871 - val_accuracy: 0.7746\n",
            "Epoch 62/100\n",
            "9/9 [==============================] - 0s 4ms/step - loss: 0.4887 - accuracy: 0.7750 - val_loss: 0.4844 - val_accuracy: 0.7746\n",
            "Epoch 63/100\n",
            "9/9 [==============================] - 0s 4ms/step - loss: 0.4859 - accuracy: 0.7750 - val_loss: 0.4819 - val_accuracy: 0.7746\n",
            "Epoch 64/100\n",
            "9/9 [==============================] - 0s 3ms/step - loss: 0.4832 - accuracy: 0.7857 - val_loss: 0.4793 - val_accuracy: 0.7746\n",
            "Epoch 65/100\n",
            "9/9 [==============================] - 0s 5ms/step - loss: 0.4804 - accuracy: 0.7857 - val_loss: 0.4768 - val_accuracy: 0.7746\n",
            "Epoch 66/100\n",
            "9/9 [==============================] - 0s 6ms/step - loss: 0.4778 - accuracy: 0.7857 - val_loss: 0.4740 - val_accuracy: 0.7746\n",
            "Epoch 67/100\n",
            "9/9 [==============================] - 0s 4ms/step - loss: 0.4753 - accuracy: 0.7821 - val_loss: 0.4716 - val_accuracy: 0.7746\n",
            "Epoch 68/100\n",
            "9/9 [==============================] - 0s 6ms/step - loss: 0.4723 - accuracy: 0.7893 - val_loss: 0.4689 - val_accuracy: 0.7746\n",
            "Epoch 69/100\n",
            "9/9 [==============================] - 0s 4ms/step - loss: 0.4698 - accuracy: 0.7964 - val_loss: 0.4664 - val_accuracy: 0.7746\n",
            "Epoch 70/100\n",
            "9/9 [==============================] - 0s 4ms/step - loss: 0.4670 - accuracy: 0.8036 - val_loss: 0.4638 - val_accuracy: 0.7746\n",
            "Epoch 71/100\n",
            "9/9 [==============================] - 0s 6ms/step - loss: 0.4643 - accuracy: 0.8036 - val_loss: 0.4611 - val_accuracy: 0.7887\n",
            "Epoch 72/100\n",
            "9/9 [==============================] - 0s 4ms/step - loss: 0.4617 - accuracy: 0.8071 - val_loss: 0.4583 - val_accuracy: 0.7887\n",
            "Epoch 73/100\n",
            "9/9 [==============================] - 0s 3ms/step - loss: 0.4587 - accuracy: 0.8071 - val_loss: 0.4556 - val_accuracy: 0.8028\n",
            "Epoch 74/100\n",
            "9/9 [==============================] - 0s 4ms/step - loss: 0.4559 - accuracy: 0.8214 - val_loss: 0.4527 - val_accuracy: 0.8028\n",
            "Epoch 75/100\n",
            "9/9 [==============================] - 0s 6ms/step - loss: 0.4531 - accuracy: 0.8179 - val_loss: 0.4502 - val_accuracy: 0.8028\n",
            "Epoch 76/100\n",
            "9/9 [==============================] - 0s 4ms/step - loss: 0.4503 - accuracy: 0.8250 - val_loss: 0.4475 - val_accuracy: 0.8028\n",
            "Epoch 77/100\n",
            "9/9 [==============================] - 0s 3ms/step - loss: 0.4476 - accuracy: 0.8321 - val_loss: 0.4448 - val_accuracy: 0.8028\n",
            "Epoch 78/100\n",
            "9/9 [==============================] - 0s 4ms/step - loss: 0.4445 - accuracy: 0.8321 - val_loss: 0.4422 - val_accuracy: 0.8028\n",
            "Epoch 79/100\n",
            "9/9 [==============================] - 0s 4ms/step - loss: 0.4418 - accuracy: 0.8357 - val_loss: 0.4394 - val_accuracy: 0.8028\n",
            "Epoch 80/100\n",
            "9/9 [==============================] - 0s 4ms/step - loss: 0.4388 - accuracy: 0.8357 - val_loss: 0.4368 - val_accuracy: 0.8028\n",
            "Epoch 81/100\n",
            "9/9 [==============================] - 0s 4ms/step - loss: 0.4361 - accuracy: 0.8357 - val_loss: 0.4342 - val_accuracy: 0.8028\n",
            "Epoch 82/100\n",
            "9/9 [==============================] - 0s 4ms/step - loss: 0.4329 - accuracy: 0.8429 - val_loss: 0.4313 - val_accuracy: 0.8169\n",
            "Epoch 83/100\n",
            "9/9 [==============================] - 0s 4ms/step - loss: 0.4298 - accuracy: 0.8429 - val_loss: 0.4285 - val_accuracy: 0.8169\n",
            "Epoch 84/100\n",
            "9/9 [==============================] - 0s 4ms/step - loss: 0.4270 - accuracy: 0.8429 - val_loss: 0.4258 - val_accuracy: 0.8169\n",
            "Epoch 85/100\n",
            "9/9 [==============================] - 0s 4ms/step - loss: 0.4244 - accuracy: 0.8464 - val_loss: 0.4230 - val_accuracy: 0.8169\n",
            "Epoch 86/100\n",
            "9/9 [==============================] - 0s 4ms/step - loss: 0.4212 - accuracy: 0.8464 - val_loss: 0.4204 - val_accuracy: 0.8310\n",
            "Epoch 87/100\n",
            "9/9 [==============================] - 0s 4ms/step - loss: 0.4181 - accuracy: 0.8500 - val_loss: 0.4177 - val_accuracy: 0.8310\n",
            "Epoch 88/100\n",
            "9/9 [==============================] - 0s 4ms/step - loss: 0.4151 - accuracy: 0.8500 - val_loss: 0.4151 - val_accuracy: 0.8592\n",
            "Epoch 89/100\n",
            "9/9 [==============================] - 0s 6ms/step - loss: 0.4123 - accuracy: 0.8571 - val_loss: 0.4123 - val_accuracy: 0.8592\n",
            "Epoch 90/100\n",
            "9/9 [==============================] - 0s 7ms/step - loss: 0.4090 - accuracy: 0.8536 - val_loss: 0.4096 - val_accuracy: 0.8732\n",
            "Epoch 91/100\n",
            "9/9 [==============================] - 0s 6ms/step - loss: 0.4064 - accuracy: 0.8607 - val_loss: 0.4068 - val_accuracy: 0.8732\n",
            "Epoch 92/100\n",
            "9/9 [==============================] - 0s 4ms/step - loss: 0.4032 - accuracy: 0.8750 - val_loss: 0.4040 - val_accuracy: 0.8592\n",
            "Epoch 93/100\n",
            "9/9 [==============================] - 0s 4ms/step - loss: 0.3997 - accuracy: 0.8786 - val_loss: 0.4011 - val_accuracy: 0.8592\n",
            "Epoch 94/100\n",
            "9/9 [==============================] - 0s 3ms/step - loss: 0.3971 - accuracy: 0.8786 - val_loss: 0.3984 - val_accuracy: 0.8592\n",
            "Epoch 95/100\n",
            "9/9 [==============================] - 0s 3ms/step - loss: 0.3939 - accuracy: 0.8786 - val_loss: 0.3957 - val_accuracy: 0.8592\n",
            "Epoch 96/100\n",
            "9/9 [==============================] - 0s 4ms/step - loss: 0.3905 - accuracy: 0.8821 - val_loss: 0.3931 - val_accuracy: 0.8592\n",
            "Epoch 97/100\n",
            "9/9 [==============================] - 0s 5ms/step - loss: 0.3878 - accuracy: 0.8821 - val_loss: 0.3906 - val_accuracy: 0.8592\n",
            "Epoch 98/100\n",
            "9/9 [==============================] - 0s 6ms/step - loss: 0.3845 - accuracy: 0.8893 - val_loss: 0.3881 - val_accuracy: 0.8592\n",
            "Epoch 99/100\n",
            "9/9 [==============================] - 0s 4ms/step - loss: 0.3811 - accuracy: 0.8893 - val_loss: 0.3855 - val_accuracy: 0.8592\n",
            "Epoch 100/100\n",
            "9/9 [==============================] - 0s 5ms/step - loss: 0.3782 - accuracy: 0.8929 - val_loss: 0.3828 - val_accuracy: 0.8592\n"
          ]
        },
        {
          "output_type": "execute_result",
          "data": {
            "text/plain": [
              "<keras.callbacks.History at 0x7f1e74c669e0>"
            ]
          },
          "metadata": {},
          "execution_count": 14
        }
      ]
    },
    {
      "cell_type": "code",
      "source": [
        "model.save('weights.h5')"
      ],
      "metadata": {
        "id": "uhrIjdlawjEP"
      },
      "execution_count": null,
      "outputs": []
    },
    {
      "cell_type": "code",
      "source": [
        "pwd"
      ],
      "metadata": {
        "colab": {
          "base_uri": "https://localhost:8080/",
          "height": 35
        },
        "id": "yiK0zJx5w3Bi",
        "outputId": "8407b82b-e9d5-4db0-f051-bd7fb8cd455f"
      },
      "execution_count": 17,
      "outputs": [
        {
          "output_type": "execute_result",
          "data": {
            "text/plain": [
              "'/content'"
            ],
            "application/vnd.google.colaboratory.intrinsic+json": {
              "type": "string"
            }
          },
          "metadata": {},
          "execution_count": 17
        }
      ]
    },
    {
      "cell_type": "code",
      "source": [],
      "metadata": {
        "id": "Oer2nN9rw28t"
      },
      "execution_count": null,
      "outputs": []
    }
  ]
}